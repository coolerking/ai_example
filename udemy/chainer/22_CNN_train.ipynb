{
 "cells": [
  {
   "cell_type": "markdown",
   "metadata": {},
   "source": [
    "# 畳み込みニューラルネットワークの学習"
   ]
  },
  {
   "cell_type": "code",
   "execution_count": 1,
   "metadata": {},
   "outputs": [],
   "source": [
    "# coding: UTF-8\n",
    "\n",
    "import chainer\n",
    "from chainer import Variable, Chain, optimizers, serializers, datasets\n",
    "import chainer.links as L\n",
    "import chainer.functions as F\n",
    "\n",
    "from chainer.datasets import tuple_dataset\n",
    "from chainer import training, iterators\n",
    "from chainer.training import extensions\n",
    "\n",
    "import numpy as np"
   ]
  },
  {
   "cell_type": "code",
   "execution_count": 2,
   "metadata": {},
   "outputs": [
    {
     "name": "stdout",
     "output_type": "stream",
     "text": [
      "Train: 60000\n",
      "Test: 10000\n"
     ]
    }
   ],
   "source": [
    "# MNISTデータの読み込み\n",
    "mnist_data = datasets.get_mnist(ndim=3) # 1x28x28\n",
    "train_data = mnist_data[0]\n",
    "test_data = mnist_data[1]\n",
    "\n",
    "#print(\"Train:\", len(train_data))\n",
    "#print(\"Test:\", len(test_data))"
   ]
  },
  {
   "cell_type": "code",
   "execution_count": 3,
   "metadata": {},
   "outputs": [],
   "source": [
    "# MNIST画像の表示\n",
    "#import matplotlib\n",
    "#%matplotlib inline\n",
    "#import matplotlib.pyplot as plt\n",
    "\n",
    "#index = 2\n",
    "#plt.imshow(train_data[index][0].reshape(28, 28), cmap = 'gray')\n",
    "#plt.title(train_data[index][1])\n",
    "#plt.show()"
   ]
  },
  {
   "cell_type": "code",
   "execution_count": 9,
   "metadata": {},
   "outputs": [],
   "source": [
    "# Chain の記述\n",
    "class MyMNIST(Chain):\n",
    "    def __init__(self):\n",
    "        super(MyMNIST, self).__init__(\n",
    "            # L.convolution2D(チャンネル数, フィルタ数, フィルタのサイズ)\n",
    "            cnn1 = L.Convolution2D( 1, 15, 5), # 画像サイズ(1, 28, 28) → (15, 24, 24)\n",
    "            cnn2 = L.Convolution2D(15, 40, 5), # 画像サイズ(15, 12, 12) → (40, 8, 8)\n",
    "            l1 = L.Linear(640, 400), # 入力は 40 x 4 x 4 = 640 → 400\n",
    "            l2 = L.Linear(400, 10), # 400 → 10\n",
    "        )\n",
    "    \n",
    "    def __call__(self, x, t):\n",
    "        return F.softmax_cross_entropy(self.predict(x), t) # 交差エントロピー\n",
    "    \n",
    "    def predict(self, x):\n",
    "        # F.max_pooling_2d(入力画像, 領域のサイズ)\n",
    "        h1 = F.max_pooling_2d(F.relu(self.cnn1(x)),  2) # 画像サイズ(15, 24, 24) → (15, 12, 12)\n",
    "        h2 = F.max_pooling_2d(F.relu(self.cnn2(h1)), 2) # 画像サイズ(40,  8,  8) → (40,  4,  4)\n",
    "        h3 = F.dropout(F.relu(self.l1(h2)))\n",
    "        return self.l2(h3)"
   ]
  },
  {
   "cell_type": "code",
   "execution_count": 10,
   "metadata": {},
   "outputs": [],
   "source": [
    "# モデルとoptimizerの設定\n",
    "model = MyMNIST()\n",
    "optimizer = optimizers.Adam() # Adam\n",
    "optimizer.setup(model)"
   ]
  },
  {
   "cell_type": "code",
   "execution_count": 11,
   "metadata": {},
   "outputs": [
    {
     "name": "stdout",
     "output_type": "stream",
     "text": [
      "     total [##................................................]  4.17%\n",
      "this epoch [#########################################.........] 83.33%\n",
      "       100 iter, 0 epoch / 20 epochs\n",
      "       inf iters/sec. Estimated time to finish: 0:00:00.\n",
      "     total [####..............................................]  8.33%\n",
      "this epoch [#################################.................] 66.67%\n",
      "       200 iter, 1 epoch / 20 epochs\n",
      "    1.2243 iters/sec. Estimated time to finish: 0:29:56.959996.\n",
      "     total [######............................................] 12.50%\n",
      "this epoch [#########################.........................] 50.00%\n",
      "       300 iter, 2 epoch / 20 epochs\n",
      "    1.2728 iters/sec. Estimated time to finish: 0:27:29.959497.\n",
      "     total [########..........................................] 16.67%\n",
      "this epoch [################..................................] 33.33%\n",
      "       400 iter, 3 epoch / 20 epochs\n",
      "    1.3062 iters/sec. Estimated time to finish: 0:25:31.139998.\n",
      "     total [##########........................................] 20.83%\n",
      "this epoch [########..........................................] 16.67%\n",
      "       500 iter, 4 epoch / 20 epochs\n",
      "     1.258 iters/sec. Estimated time to finish: 0:25:10.333750.\n",
      "     total [############......................................] 25.00%\n",
      "this epoch [..................................................]  0.00%\n",
      "       600 iter, 5 epoch / 20 epochs\n",
      "    1.2375 iters/sec. Estimated time to finish: 0:24:14.515199.\n",
      "     total [##############....................................] 29.17%\n",
      "this epoch [#########################################.........] 83.33%\n",
      "       700 iter, 5 epoch / 20 epochs\n",
      "    1.2251 iters/sec. Estimated time to finish: 0:23:07.687333.\n",
      "     total [################..................................] 33.33%\n",
      "this epoch [#################################.................] 66.67%\n",
      "       800 iter, 6 epoch / 20 epochs\n",
      "    1.2099 iters/sec. Estimated time to finish: 0:22:02.374857.\n",
      "     total [##################................................] 37.50%\n",
      "this epoch [#########################.........................] 50.00%\n",
      "       900 iter, 7 epoch / 20 epochs\n",
      "    1.2071 iters/sec. Estimated time to finish: 0:20:42.626249.\n",
      "     total [####################..............................] 41.67%\n",
      "this epoch [################..................................] 33.33%\n",
      "      1000 iter, 8 epoch / 20 epochs\n",
      "    1.2002 iters/sec. Estimated time to finish: 0:19:26.484666.\n",
      "     total [######################............................] 45.83%\n",
      "this epoch [########..........................................] 16.67%\n",
      "      1100 iter, 9 epoch / 20 epochs\n",
      "    1.1995 iters/sec. Estimated time to finish: 0:18:03.803500.\n",
      "     total [#########################.........................] 50.00%\n",
      "this epoch [..................................................]  0.00%\n",
      "      1200 iter, 10 epoch / 20 epochs\n",
      "    1.1934 iters/sec. Estimated time to finish: 0:16:45.520363.\n",
      "     total [###########################.......................] 54.17%\n",
      "this epoch [#########################################.........] 83.33%\n",
      "      1300 iter, 10 epoch / 20 epochs\n",
      "    1.1916 iters/sec. Estimated time to finish: 0:15:23.141083.\n",
      "     total [#############################.....................] 58.33%\n",
      "this epoch [#################################.................] 66.67%\n",
      "      1400 iter, 11 epoch / 20 epochs\n",
      "    1.1886 iters/sec. Estimated time to finish: 0:14:01.319231.\n",
      "     total [###############################...................] 62.50%\n",
      "this epoch [#########################.........................] 50.00%\n",
      "      1500 iter, 12 epoch / 20 epochs\n",
      "    1.1705 iters/sec. Estimated time to finish: 0:12:48.905475.\n",
      "     total [#################################.................] 66.67%\n",
      "this epoch [################..................................] 33.33%\n",
      "      1600 iter, 13 epoch / 20 epochs\n",
      "    1.1718 iters/sec. Estimated time to finish: 0:11:22.735034.\n",
      "     total [###################################...............] 70.83%\n",
      "this epoch [########..........................................] 16.67%\n",
      "      1700 iter, 14 epoch / 20 epochs\n",
      "    1.1742 iters/sec. Estimated time to finish: 0:09:56.138990.\n",
      "     total [#####################################.............] 75.00%\n",
      "this epoch [..................................................]  0.00%\n",
      "      1800 iter, 15 epoch / 20 epochs\n",
      "    1.1759 iters/sec. Estimated time to finish: 0:08:30.225848.\n",
      "     total [#######################################...........] 79.17%\n",
      "this epoch [#########################################.........] 83.33%\n",
      "      1900 iter, 15 epoch / 20 epochs\n",
      "    1.1777 iters/sec. Estimated time to finish: 0:07:04.562530.\n",
      "     total [#########################################.........] 83.33%\n",
      "this epoch [#################################.................] 66.67%\n",
      "      2000 iter, 16 epoch / 20 epochs\n",
      "    1.1558 iters/sec. Estimated time to finish: 0:05:46.077304.\n",
      "     total [###########################################.......] 87.50%\n",
      "this epoch [#########################.........................] 50.00%\n",
      "      2100 iter, 17 epoch / 20 epochs\n",
      "    1.1333 iters/sec. Estimated time to finish: 0:04:24.722353.\n",
      "     total [#############################################.....] 91.67%\n",
      "this epoch [################..................................] 33.33%\n",
      "      2200 iter, 18 epoch / 20 epochs\n",
      "    1.1122 iters/sec. Estimated time to finish: 0:02:59.819620.\n",
      "     total [###############################################...] 95.83%\n",
      "this epoch [########..........................................] 16.67%\n",
      "      2300 iter, 19 epoch / 20 epochs\n",
      "    1.0884 iters/sec. Estimated time to finish: 0:01:31.876197.\n",
      "     total [##################################################] 100.00%\n",
      "this epoch [..................................................]  0.00%\n",
      "      2400 iter, 20 epoch / 20 epochs\n",
      "    1.0773 iters/sec. Estimated time to finish: 0:00:00.\n"
     ]
    }
   ],
   "source": [
    "# 学習\n",
    "iterator = iterators.SerialIterator(train_data, 500)\n",
    "updater = training.StandardUpdater(iterator, optimizer)\n",
    "trainer = training.Trainer(updater, (20, 'epoch'))\n",
    "trainer.extend(extensions.ProgressBar())\n",
    "trainer.run()"
   ]
  },
  {
   "cell_type": "code",
   "execution_count": 12,
   "metadata": {},
   "outputs": [],
   "source": [
    "# モデルの保存\n",
    "serializers.save_npz('my_mnist.npz', model)"
   ]
  },
  {
   "cell_type": "code",
   "execution_count": null,
   "metadata": {},
   "outputs": [],
   "source": []
  }
 ],
 "metadata": {
  "kernelspec": {
   "display_name": "Python 3",
   "language": "python",
   "name": "python3"
  },
  "language_info": {
   "codemirror_mode": {
    "name": "ipython",
    "version": 3
   },
   "file_extension": ".py",
   "mimetype": "text/x-python",
   "name": "python",
   "nbconvert_exporter": "python",
   "pygments_lexer": "ipython3",
   "version": "3.6.3"
  }
 },
 "nbformat": 4,
 "nbformat_minor": 2
}
