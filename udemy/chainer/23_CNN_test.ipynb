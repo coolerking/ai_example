{
 "cells": [
  {
   "cell_type": "markdown",
   "metadata": {},
   "source": [
    "# 畳み込みニューラルネットワークによる分類"
   ]
  },
  {
   "cell_type": "code",
   "execution_count": 1,
   "metadata": {},
   "outputs": [],
   "source": [
    "# coding: UTF-8\n",
    "\n",
    "import chainer\n",
    "from chainer import Variable, Chain, optimizers, serializers, datasets\n",
    "import chainer.links as L\n",
    "import chainer.functions as F\n",
    "\n",
    "from chainer.datasets import tuple_dataset\n",
    "from chainer import training, iterators\n",
    "from chainer.training import extensions\n",
    "\n",
    "import numpy as np"
   ]
  },
  {
   "cell_type": "code",
   "execution_count": 2,
   "metadata": {},
   "outputs": [],
   "source": [
    "# MNISTデータの読み込み\n",
    "mnist_data = datasets.get_mnist(ndim=3) # 1x28x28\n",
    "train_data = mnist_data[0]\n",
    "test_data = mnist_data[1]"
   ]
  },
  {
   "cell_type": "code",
   "execution_count": 3,
   "metadata": {},
   "outputs": [],
   "source": [
    "# Chain の記述\n",
    "class MyMNIST(Chain):\n",
    "    def __init__(self):\n",
    "        super(MyMNIST, self).__init__(\n",
    "            # L.convolution2D(チャンネル数, フィルタ数, フィルタのサイズ)\n",
    "            cnn1 = L.Convolution2D( 1, 15, 5), # 画像サイズ(1, 28, 28) → (15, 24, 24)\n",
    "            cnn2 = L.Convolution2D(15, 40, 5), # 画像サイズ(15, 12, 12) → (40, 8, 8)\n",
    "            l1 = L.Linear(640, 400), # 入力は 40 x 4 x 4 = 640 → 400\n",
    "            l2 = L.Linear(400, 10), # 400 → 10\n",
    "        )\n",
    "    \n",
    "    def __call__(self, x, t):\n",
    "        return F.softmax_cross_entropy(self.predict(x), t) # 交差エントロピー\n",
    "    \n",
    "    def predict(self, x):\n",
    "        # F.max_pooling_2d(入力画像, 領域のサイズ)\n",
    "        h1 = F.max_pooling_2d(F.relu(self.cnn1(x)),  2) # 画像サイズ(15, 24, 24) → (15, 12, 12)\n",
    "        h2 = F.max_pooling_2d(F.relu(self.cnn2(h1)), 2) # 画像サイズ(40,  8,  8) → (40,  4,  4)\n",
    "        h3 = F.dropout(F.relu(self.l1(h2)))\n",
    "        return self.l2(h3)"
   ]
  },
  {
   "cell_type": "code",
   "execution_count": 4,
   "metadata": {},
   "outputs": [],
   "source": [
    "# モデルとoptimizerの設定\n",
    "model = MyMNIST()\n",
    "optimizer = optimizers.Adam() # Adam\n",
    "optimizer.setup(model)"
   ]
  },
  {
   "cell_type": "code",
   "execution_count": 5,
   "metadata": {},
   "outputs": [],
   "source": [
    "# 学習\n",
    "#iterator = iterators.SerialIterator(train_data, 500)\n",
    "#updater = training.StandardUpdater(iterator, optimizer)\n",
    "#trainer = training.Trainer(updater, (20, 'epoch'))\n",
    "#trainer.extend(extensions.ProgressBar())\n",
    "#trainer.run()"
   ]
  },
  {
   "cell_type": "code",
   "execution_count": 6,
   "metadata": {},
   "outputs": [],
   "source": [
    "# モデルの保存\n",
    "#serializers.save_npz('my_mnist.npz', model)"
   ]
  },
  {
   "cell_type": "code",
   "execution_count": 7,
   "metadata": {},
   "outputs": [],
   "source": [
    "# モデルの読み込み\n",
    "serializers.load_npz('my_mnist.npz', model)"
   ]
  },
  {
   "cell_type": "code",
   "execution_count": 9,
   "metadata": {},
   "outputs": [
    {
     "name": "stdout",
     "output_type": "stream",
     "text": [
      "Correct: 9906 Total: 10000 Acuuracy: 99.06 %\n"
     ]
    }
   ],
   "source": [
    "# テスト\n",
    "correct = 0\n",
    "for i in range(len(test_data)):\n",
    "    x = Variable(np.array([test_data[i][0]], dtype = np.float32))\n",
    "    t = test_data[i][1]\n",
    "    y = model.predict(x)\n",
    "    maxIndex = np.argmax(y.data)\n",
    "    if maxIndex == t:\n",
    "        correct += 1\n",
    "\n",
    "# 正解率\n",
    "print(\"Correct:\", correct, \"Total:\", len(test_data), \"Acuuracy:\", correct/len(test_data) * 100, \"%\")"
   ]
  },
  {
   "cell_type": "code",
   "execution_count": null,
   "metadata": {},
   "outputs": [],
   "source": []
  }
 ],
 "metadata": {
  "kernelspec": {
   "display_name": "Python 3",
   "language": "python",
   "name": "python3"
  },
  "language_info": {
   "codemirror_mode": {
    "name": "ipython",
    "version": 3
   },
   "file_extension": ".py",
   "mimetype": "text/x-python",
   "name": "python",
   "nbconvert_exporter": "python",
   "pygments_lexer": "ipython3",
   "version": "3.6.3"
  }
 },
 "nbformat": 4,
 "nbformat_minor": 2
}
