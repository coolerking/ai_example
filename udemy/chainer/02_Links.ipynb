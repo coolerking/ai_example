{
 "cells": [
  {
   "cell_type": "markdown",
   "metadata": {},
   "source": [
    "# Links\n",
    "\n",
    "層間の結合をあらわす"
   ]
  },
  {
   "cell_type": "code",
   "execution_count": 1,
   "metadata": {},
   "outputs": [],
   "source": [
    "import chainer\n",
    "import numpy as np\n",
    "from chainer import Variable\n",
    "import chainer.links as L"
   ]
  },
  {
   "cell_type": "code",
   "execution_count": 2,
   "metadata": {},
   "outputs": [
    {
     "name": "stdout",
     "output_type": "stream",
     "text": [
      "[[-0.06878837 -0.24217804  0.43447807]\n",
      " [-0.7334342  -0.70521271 -0.30952135]]\n",
      "[ 0.  0.]\n"
     ]
    }
   ],
   "source": [
    "# LinksのLinearLink（入力した係数をかけたものと、バイアス全て足し合わせる）関数によりオブジェクト l を作成\n",
    "l = L.Linear(3, 2)\n",
    "print(l.W.data)\n",
    "print(l.b.data)"
   ]
  },
  {
   "cell_type": "code",
   "execution_count": 5,
   "metadata": {},
   "outputs": [
    {
     "name": "stdout",
     "output_type": "stream",
     "text": [
      "[[ 0.7502898  -3.0724237 ]\n",
      " [ 1.12082481 -8.31692886]]\n"
     ]
    }
   ],
   "source": [
    "# オブジェクトlによりyを計算\n",
    "#input_array = np.array([[1, 2, 3]], dtype = np.float32)\n",
    "input_array = np.array([[1, 2, 3], [4, 5, 6]], dtype = np.float32)\n",
    "x = Variable(input_array)\n",
    "y = l(x)\n",
    "print(y.data)"
   ]
  },
  {
   "cell_type": "code",
   "execution_count": 6,
   "metadata": {},
   "outputs": [
    {
     "name": "stdout",
     "output_type": "stream",
     "text": [
      "[[ 5.  7.  9.]\n",
      " [ 5.  7.  9.]]\n",
      "[ 2.  2.]\n"
     ]
    }
   ],
   "source": [
    "# l の勾配をゼロに初期化\n",
    "l.cleargrads()\n",
    "\n",
    "# y →　l と遡って微分の計算\n",
    "#y.grad = np.ones((1, 2), dtype = np.float32) # 配列１つに要素2つ\n",
    "y.grad = np.ones((2, 2), dtype = np.float32) # 配列2つに要素2つ\n",
    "y.backward()\n",
    "print(l.W.grad)\n",
    "print(l.b.grad)"
   ]
  },
  {
   "cell_type": "markdown",
   "metadata": {},
   "source": [
    "# 課題\n",
    "\n",
    "様々なLinear.Link の型式を試してみましょう。L.Linear(3, 2)の数値を変更してみましょう。"
   ]
  },
  {
   "cell_type": "code",
   "execution_count": 7,
   "metadata": {},
   "outputs": [
    {
     "name": "stdout",
     "output_type": "stream",
     "text": [
      "[[-0.33575255  0.17525055  0.59400809  0.43941531]\n",
      " [ 0.27309164 -0.44317466 -0.63321924 -0.44898087]]\n",
      "[ 0.  0.]\n"
     ]
    }
   ],
   "source": [
    "# LinksのLinearLink（入力した係数をかけたものと、バイアス全て足し合わせる）関数によりオブジェクト l を作成\n",
    "l = L.Linear(4, 2)\n",
    "print(l.W.data)\n",
    "print(l.b.data)"
   ]
  },
  {
   "cell_type": "code",
   "execution_count": 8,
   "metadata": {},
   "outputs": [
    {
     "name": "stdout",
     "output_type": "stream",
     "text": [
      "[[ 3.55443406 -4.30883884]\n",
      " [ 7.04611969 -9.31797123]]\n"
     ]
    }
   ],
   "source": [
    "# オブジェクトlによりyを計算\n",
    "#input_array = np.array([[1, 2, 3]], dtype = np.float32)\n",
    "input_array = np.array([[1, 2, 3, 4], [5, 6, 7, 8]], dtype = np.float32)\n",
    "x = Variable(input_array)\n",
    "y = l(x)\n",
    "print(y.data)"
   ]
  },
  {
   "cell_type": "code",
   "execution_count": 9,
   "metadata": {},
   "outputs": [
    {
     "name": "stdout",
     "output_type": "stream",
     "text": [
      "[[  6.   8.  10.  12.]\n",
      " [  6.   8.  10.  12.]]\n",
      "[ 2.  2.]\n"
     ]
    }
   ],
   "source": [
    "# l の勾配をゼロに初期化\n",
    "l.cleargrads()\n",
    "\n",
    "# y →　l と遡って微分の計算\n",
    "#y.grad = np.ones((1, 2), dtype = np.float32) # 配列１つに要素2つ\n",
    "y.grad = np.ones((2, 2), dtype = np.float32) # 配列2つに要素2つ\n",
    "y.backward()\n",
    "print(l.W.grad)\n",
    "print(l.b.grad)"
   ]
  },
  {
   "cell_type": "code",
   "execution_count": null,
   "metadata": {},
   "outputs": [],
   "source": []
  }
 ],
 "metadata": {
  "kernelspec": {
   "display_name": "Python 3",
   "language": "python",
   "name": "python3"
  },
  "language_info": {
   "codemirror_mode": {
    "name": "ipython",
    "version": 3
   },
   "file_extension": ".py",
   "mimetype": "text/x-python",
   "name": "python",
   "nbconvert_exporter": "python",
   "pygments_lexer": "ipython3",
   "version": "3.6.3"
  }
 },
 "nbformat": 4,
 "nbformat_minor": 2
}
