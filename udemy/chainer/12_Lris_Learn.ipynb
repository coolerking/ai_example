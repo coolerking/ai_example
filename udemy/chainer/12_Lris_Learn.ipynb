{
 "cells": [
  {
   "cell_type": "markdown",
   "metadata": {},
   "source": [
    "# Iris データの学習"
   ]
  },
  {
   "cell_type": "code",
   "execution_count": 1,
   "metadata": {},
   "outputs": [],
   "source": [
    "# coding: UTF-8\n",
    "\n",
    "import chainer\n",
    "from chainer import Variable, Chain, optimizers\n",
    "import chainer.links as L\n",
    "import chainer.functions as F\n",
    "\n",
    "import numpy as np\n",
    "from sklearn import datasets # Scikit Learn にIris dataset が含まれている"
   ]
  },
  {
   "cell_type": "code",
   "execution_count": 2,
   "metadata": {},
   "outputs": [],
   "source": [
    "# Iris データの読み込み\n",
    "iris_data = datasets.load_iris()"
   ]
  },
  {
   "cell_type": "code",
   "execution_count": 3,
   "metadata": {},
   "outputs": [],
   "source": [
    "x = iris_data.data.astype(np.float32)\n",
    "t = iris_data.target\n",
    "n = t.size"
   ]
  },
  {
   "cell_type": "code",
   "execution_count": 4,
   "metadata": {},
   "outputs": [],
   "source": [
    "# 教師データの下処理\n",
    "t_matrix = np.zeros(3 * n).reshape(n, 3).astype(np.float32)\n",
    "for i in range(n):\n",
    "    t_matrix[i, t[i]] = 1.0"
   ]
  },
  {
   "cell_type": "code",
   "execution_count": 5,
   "metadata": {},
   "outputs": [],
   "source": [
    "# 訓練用データとテスト用データ 半分が訓練用データで残りがテスト用データ\n",
    "indexes = np.arange(n)\n",
    "indexes_train = indexes[indexes%2 != 0]\n",
    "indexes_test = indexes[indexes%2 == 0]\n",
    "\n",
    "x_train = x[indexes_train, :] # 訓練用 入力\n",
    "t_train = t_matrix[indexes_train, :] # 訓練用 正解\n",
    "x_test = x[indexes_test, :] # テスト用 入力\n",
    "t_test = t[indexes_test] # テスト用 正解\n",
    "\n",
    "x_train_v = Variable(x_train)\n",
    "t_train_v = Variable(t_train)\n",
    "x_test_v = Variable(x_test)"
   ]
  },
  {
   "cell_type": "code",
   "execution_count": 8,
   "metadata": {},
   "outputs": [],
   "source": [
    "# Chain の記述\n",
    "class IrisChain(Chain):\n",
    "    def __init__(self):\n",
    "        super(IrisChain, self).__init__(\n",
    "            l1 = L.Linear(4, 6),\n",
    "            l2 = L.Linear(6, 6),\n",
    "            l3 = L.Linear(6, 3),\n",
    "        )\n",
    "        \n",
    "    def predict(self, x):\n",
    "        h1 = F.sigmoid(self.l1(x))\n",
    "        h2 = F.sigmoid(self.l2(h1))\n",
    "        h3 = self.l3(h2)\n",
    "        return h3"
   ]
  },
  {
   "cell_type": "code",
   "execution_count": 9,
   "metadata": {},
   "outputs": [],
   "source": [
    "# モデルとOptimizerの設定\n",
    "model = IrisChain()\n",
    "optimizer = optimizers.Adam()\n",
    "optimizer.setup(model)"
   ]
  },
  {
   "cell_type": "code",
   "execution_count": 10,
   "metadata": {},
   "outputs": [],
   "source": [
    "# 学習\n",
    "for i in range(10000):\n",
    "    \n",
    "    model.cleargrads()\n",
    "    y_train_v = model.predict(x_train_v)\n",
    "    \n",
    "    # 損失関数による誤差の計算、この場合は平均2乗誤差\n",
    "    loss = F.mean_squared_error(y_train_v, t_train_v)\n",
    "    loss.backward()\n",
    "    \n",
    "    # Optimizer による重みの更新\n",
    "    optimizer.update()"
   ]
  },
  {
   "cell_type": "code",
   "execution_count": null,
   "metadata": {},
   "outputs": [],
   "source": []
  }
 ],
 "metadata": {
  "kernelspec": {
   "display_name": "Python 3",
   "language": "python",
   "name": "python3"
  },
  "language_info": {
   "codemirror_mode": {
    "name": "ipython",
    "version": 3
   },
   "file_extension": ".py",
   "mimetype": "text/x-python",
   "name": "python",
   "nbconvert_exporter": "python",
   "pygments_lexer": "ipython3",
   "version": "3.6.3"
  }
 },
 "nbformat": 4,
 "nbformat_minor": 2
}
