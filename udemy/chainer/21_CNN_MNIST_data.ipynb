{
 "cells": [
  {
   "cell_type": "markdown",
   "metadata": {},
   "source": [
    "# 畳み込みニューラルネットワーク\n",
    "\n",
    "- Convolutional Neural Network (CNN)\n",
    "- ヒトの視神経及び視覚野がモデル\n",
    "- 画像認識に広く使われている\n",
    "\n",
    "# CNNの構造\n",
    "\n",
    "- 畳み込み層\n",
    "複数のフィルタリング\n",
    "- プーリング層\n",
    "特徴が抽出できるように画像サイズの削減\n",
    "- 全結合層\n",
    "通常のニューラルネットワークでできている\n",
    "\n",
    "# ヒトの視神経と視覚野\n",
    "\n",
    "- 網膜上の受容体\n",
    " - 1億以上あり、入力から特徴を抽出する\n",
    " - 畳み込み層、プーリング層に相当\n",
    "\n",
    "- 脳の視覚野\n",
    " - 受け取った特徴量から物体を認識する\n",
    " - 全結合層に相当\n",
    "\n",
    "# 畳み込み層\n",
    "\n",
    "- 元画像に複数のフィルタをかける\n",
    " - フィルタの画素値と元画像の画素値をかける\n",
    "- 畳み込みの結果\n",
    " - フィルタ数分だけ増える\n",
    "\n",
    "# プーリング層\n",
    "\n",
    "- 畳み込み結果をn×mの領域で区切る\n",
    "- 各領域の最大値をとる\n",
    "- プーリング層の結果\n",
    " - 総画素数÷(n×m)のサイズに削減される→計算量削減、過学習抑制\n",
    " - 微小なピクセルの違いに頑強\n",
    "\n",
    "# 全結合層\n",
    "\n",
    "- 通常のニューラルネットワーク\n",
    "- 抽出した特徴量に基づき、演算を行い結果を出力する\n",
    "\n",
    "## ドロップアウト\n",
    "\n",
    "- 全結合層で使用される技法\n",
    "- 層からニューロンをランダムに取り除く\n",
    "- 毎回異なるネットワーク構成にすることで、過学習を防ぐ\n",
    "- ドロップアウト率は0.5に設定することが多い\n",
    "\n",
    "\n",
    "# CNNの学習\n",
    "\n",
    "- 誤差を逆に伝播させる\n",
    "- 全結合層だけでなく畳み込みそうのフィルタにも誤差を伝播させる\n",
    " - プーリング層は最大値取得しかやっていないのでパラメータがない\n",
    " - 畳み込み層はフィルタ自体がパラメータに相当する機能となる\n",
    "\n",
    "# MNISTデータセット\n",
    "\n",
    "- 手書きの０から９までの数字を読み取る\n",
    "- 手書きの文字と正解値のセット\n"
   ]
  },
  {
   "cell_type": "code",
   "execution_count": 1,
   "metadata": {},
   "outputs": [],
   "source": [
    "# coding: UTF-8\n",
    "\n",
    "import chainer\n",
    "from chainer import Variable, Chain, optimizers, serializers, datasets\n",
    "import chainer.links as L\n",
    "import chainer.functions as F\n",
    "\n",
    "from chainer.datasets import tuple_dataset\n",
    "from chainer import training, iterators\n",
    "from chainer.training import extensions\n",
    "\n",
    "import numpy as np"
   ]
  },
  {
   "cell_type": "code",
   "execution_count": 2,
   "metadata": {},
   "outputs": [
    {
     "name": "stdout",
     "output_type": "stream",
     "text": [
      "Downloading from http://yann.lecun.com/exdb/mnist/train-images-idx3-ubyte.gz...\n",
      "Downloading from http://yann.lecun.com/exdb/mnist/train-labels-idx1-ubyte.gz...\n",
      "Downloading from http://yann.lecun.com/exdb/mnist/t10k-images-idx3-ubyte.gz...\n",
      "Downloading from http://yann.lecun.com/exdb/mnist/t10k-labels-idx1-ubyte.gz...\n",
      "Train: 60000\n",
      "Test: 10000\n"
     ]
    }
   ],
   "source": [
    "# MNISTデータの読み込み\n",
    "mnist_data = datasets.get_mnist(ndim=3) # 1x28x28\n",
    "train_data = mnist_data[0]\n",
    "test_data = mnist_data[1]\n",
    "\n",
    "print(\"Train:\", len(train_data))\n",
    "print(\"Test:\", len(test_data))"
   ]
  },
  {
   "cell_type": "code",
   "execution_count": 5,
   "metadata": {},
   "outputs": [
    {
     "data": {
      "image/png": "[encoded data removed]",
      "text/plain": [
       "<matplotlib.figure.Figure at 0x942a668>"
      ]
     },
     "metadata": {},
     "output_type": "display_data"
    }
   ],
   "source": [
    "# MNIST画像の表示\n",
    "import matplotlib\n",
    "%matplotlib inline\n",
    "import matplotlib.pyplot as plt\n",
    "\n",
    "index = 2\n",
    "plt.imshow(train_data[index][0].reshape(28, 28), cmap = 'gray')\n",
    "plt.title(train_data[index][1])\n",
    "plt.show()"
   ]
  },
  {
   "cell_type": "code",
   "execution_count": null,
   "metadata": {},
   "outputs": [],
   "source": []
  }
 ],
 "metadata": {
  "kernelspec": {
   "display_name": "Python 3",
   "language": "python",
   "name": "python3"
  },
  "language_info": {
   "codemirror_mode": {
    "name": "ipython",
    "version": 3
   },
   "file_extension": ".py",
   "mimetype": "text/x-python",
   "name": "python",
   "nbconvert_exporter": "python",
   "pygments_lexer": "ipython3",
   "version": "3.6.3"
  }
 },
 "nbformat": 4,
 "nbformat_minor": 2
}
