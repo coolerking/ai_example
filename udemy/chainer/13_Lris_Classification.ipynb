{
 "cells": [
  {
   "cell_type": "markdown",
   "metadata": {},
   "source": [
    "# Irisの分類"
   ]
  },
  {
   "cell_type": "code",
   "execution_count": 1,
   "metadata": {},
   "outputs": [],
   "source": [
    "# coding: UTF-8\n",
    "\n",
    "import chainer\n",
    "from chainer import Variable, Chain, optimizers\n",
    "import chainer.links as L\n",
    "import chainer.functions as F\n",
    "\n",
    "import numpy as np\n",
    "from sklearn import datasets # Scikit Learn にIris dataset が含まれている"
   ]
  },
  {
   "cell_type": "code",
   "execution_count": 2,
   "metadata": {},
   "outputs": [],
   "source": [
    "# Iris データの読み込み\n",
    "iris_data = datasets.load_iris()"
   ]
  },
  {
   "cell_type": "code",
   "execution_count": 3,
   "metadata": {},
   "outputs": [],
   "source": [
    "x = iris_data.data.astype(np.float32)\n",
    "t = iris_data.target\n",
    "n = t.size"
   ]
  },
  {
   "cell_type": "code",
   "execution_count": 4,
   "metadata": {},
   "outputs": [],
   "source": [
    "# 教師データの下処理\n",
    "t_matrix = np.zeros(3 * n).reshape(n, 3).astype(np.float32)\n",
    "for i in range(n):\n",
    "    t_matrix[i, t[i]] = 1.0"
   ]
  },
  {
   "cell_type": "code",
   "execution_count": 5,
   "metadata": {},
   "outputs": [],
   "source": [
    "# 訓練用データとテスト用データ 半分が訓練用データで残りがテスト用データ\n",
    "indexes = np.arange(n)\n",
    "indexes_train = indexes[indexes%2 != 0]\n",
    "indexes_test = indexes[indexes%2 == 0]\n",
    "\n",
    "x_train = x[indexes_train, :] # 訓練用 入力\n",
    "t_train = t_matrix[indexes_train, :] # 訓練用 正解\n",
    "x_test = x[indexes_test, :] # テスト用 入力\n",
    "t_test = t[indexes_test] # テスト用 正解\n",
    "\n",
    "x_train_v = Variable(x_train)\n",
    "t_train_v = Variable(t_train)\n",
    "x_test_v = Variable(x_test)"
   ]
  },
  {
   "cell_type": "code",
   "execution_count": 6,
   "metadata": {},
   "outputs": [],
   "source": [
    "# Chain の記述\n",
    "class IrisChain(Chain):\n",
    "    def __init__(self):\n",
    "        super(IrisChain, self).__init__(\n",
    "            l1 = L.Linear(4, 6),\n",
    "            l2 = L.Linear(6, 6),\n",
    "            l3 = L.Linear(6, 3),\n",
    "        )\n",
    "        \n",
    "    def predict(self, x):\n",
    "        h1 = F.sigmoid(self.l1(x))\n",
    "        h2 = F.sigmoid(self.l2(h1))\n",
    "        h3 = self.l3(h2)\n",
    "        return h3"
   ]
  },
  {
   "cell_type": "code",
   "execution_count": 7,
   "metadata": {},
   "outputs": [],
   "source": [
    "# モデルとOptimizerの設定\n",
    "model = IrisChain()\n",
    "optimizer = optimizers.Adam()\n",
    "optimizer.setup(model)"
   ]
  },
  {
   "cell_type": "code",
   "execution_count": 8,
   "metadata": {},
   "outputs": [],
   "source": [
    "# 学習\n",
    "for i in range(10000):\n",
    "    \n",
    "    model.cleargrads()\n",
    "    y_train_v = model.predict(x_train_v)\n",
    "    \n",
    "    # 損失関数による誤差の計算、この場合は平均2乗誤差\n",
    "    loss = F.mean_squared_error(y_train_v, t_train_v)\n",
    "    loss.backward()\n",
    "    \n",
    "    # Optimizer による重みの更新\n",
    "    optimizer.update()"
   ]
  },
  {
   "cell_type": "code",
   "execution_count": 9,
   "metadata": {},
   "outputs": [],
   "source": [
    "# テスト\n",
    "model.cleargrads()\n",
    "y_test_v = model.predict(x_test_v)\n",
    "y_test = y_test_v.data"
   ]
  },
  {
   "cell_type": "code",
   "execution_count": 11,
   "metadata": {},
   "outputs": [
    {
     "name": "stdout",
     "output_type": "stream",
     "text": [
      "[  1.00166655e+00  -4.57245857e-04  -3.74421477e-03] 0\n",
      "[  1.00120521e+00  -4.19486314e-04  -2.28126347e-03] 0\n",
      "[  1.00192893e+00  -6.91849738e-04  -3.68157029e-03] 0\n",
      "[  1.00167131e+00  -1.37624517e-03   6.66245818e-04] 0\n",
      "[ 0.99765593  0.00156742  0.00206603] 0\n",
      "[  1.00174069e+00  -3.57512385e-04  -4.40019369e-03] 0\n",
      "[  9.99650657e-01   9.55235213e-04  -2.57307291e-03] 0\n",
      "[ 0.99998659  0.00255872 -0.00970215] 0\n",
      "[ 1.00288391 -0.00148458 -0.00353172] 0\n",
      "[ 1.00216615 -0.00128808 -0.00164597] 0\n",
      "[  1.00017202e+00   1.57218426e-04  -7.25522637e-04] 0\n",
      "[  1.00148606e+00   3.78068537e-04  -6.53192401e-03] 0\n",
      "[ 0.99491054  0.00312754  0.00578673] 0\n",
      "[  9.99629617e-01  -2.55633146e-04   4.02507186e-03] 0\n",
      "[  1.00137806e+00  -1.99604779e-04  -3.79863381e-03] 0\n",
      "[ 0.9976002   0.00163109  0.00224061] 0\n",
      "[  1.00142288e+00   4.55360860e-04  -6.60683215e-03] 0\n",
      "[  9.99588370e-01   8.97746533e-04  -2.06997991e-03] 0\n",
      "[  1.00105929e+00   7.10409135e-04  -6.37997687e-03] 0\n",
      "[  9.99989748e-01   9.90442932e-05  -1.13561749e-04] 0\n",
      "[ 1.00227714 -0.00120549 -0.00262138] 0\n",
      "[  1.00117326e+00  -6.78200275e-04  -1.02473795e-03] 0\n",
      "[  9.99073982e-01  -7.10971653e-05   6.09453022e-03] 0\n",
      "[ 1.00221395 -0.00120511 -0.0023939 ] 0\n",
      "[  1.00184894e+00  -5.40334731e-04  -4.01553512e-03] 0\n",
      "[ 0.00926095  0.98446488  0.01141889] 1\n",
      "[ 0.00895667  1.07995069 -0.07886131] 1\n",
      "[ 0.00611943  1.09624684 -0.09237532] 1\n",
      "[ 0.01112193  1.0760349  -0.07512601] 1\n",
      "[ 0.00299925  1.02020133 -0.0191129 ] 1\n",
      "[-0.02380115  0.98750252  0.02621983] 1\n",
      "[-0.01758689  1.02106357 -0.01258634] 1\n",
      "[ 0.00966018  0.97417903  0.01427855] 1\n",
      "[ 0.00681406  0.8412025   0.16156454] 1\n",
      "[-0.01007664  0.50877255  0.49536556] 1\n",
      "[ 0.00993592  0.36494109  0.62609202] 2\n",
      "[-0.01469845  0.28269407  0.71987152] 2\n",
      "[ 0.00282985  0.99280101  0.00556155] 1\n",
      "[ 0.00450259  1.09632492 -0.09220375] 1\n",
      "[ 0.00687665  1.03684318 -0.03263856] 1\n",
      "[-0.01077729  1.00405526  0.00101744] 1\n",
      "[-0.00219887  0.99282432  0.0060222 ] 1\n",
      "[ 0.00255173  0.58934766  0.41104943] 1\n",
      "[ 0.00879699  1.04392576 -0.04408686] 1\n",
      "[ 0.00373518  0.99200219  0.00715278] 1\n",
      "[-0.00835049  0.79709351  0.21283476] 1\n",
      "[-0.00451761  1.00497746 -0.00225244] 1\n",
      "[-0.00279039  1.01275098 -0.0048696 ] 1\n",
      "[ 0.00110048  1.00951421 -0.00681774] 1\n",
      "[ 0.03668416  0.9507454   0.00768395] 1\n",
      "[ 0.01614374 -0.11614157  1.11143482] 2\n",
      "[ 0.00378996  0.04645984  0.95539671] 2\n",
      "[ 0.01237375 -0.07549842  1.07289994] 2\n",
      "[-0.00366896  0.0916612   0.91486543] 2\n",
      "[ 0.00926262 -0.05650594  1.05564392] 2\n",
      "[ 0.00995559  0.09668474  0.8881017 ] 2\n",
      "[-0.00614315  0.10635982  0.8976981 ] 2\n",
      "[ 0.01246232 -0.07900305  1.07635427] 2\n",
      "[-0.01091057  0.14635943  0.85987639] 2\n",
      "[ 0.01709467 -0.12729241  1.12204754] 2\n",
      "[ 0.00185633  0.04971359  0.95203775] 2\n",
      "[ 0.0143705  -0.10209884  1.09837651] 2\n",
      "[-0.00302392  0.0527874   0.94939667] 2\n",
      "[ -5.67138195e-04   1.62868425e-01   8.29186261e-01] 2\n",
      "[ 0.01050049 -0.05678745  1.05524409] 2\n",
      "[ 0.00341511  0.05233238  0.95003968] 2\n",
      "[ 0.01212132 -0.0758989   1.07344306] 2\n",
      "[  1.38878822e-05   4.05610017e-02   9.63841498e-01] 2\n",
      "[ 0.00872272 -0.02028598  1.01942194] 2\n",
      "[ 0.00296623  0.16650574  0.82367682] 2\n",
      "[ 0.00788671 -0.00492241  1.00462806] 2\n",
      "[ 0.00267458  0.03804336  0.96482235] 2\n",
      "[ 0.00927287 -0.02267506  1.02154803] 2\n",
      "[-0.00972396  0.22216229  0.78697395] 2\n",
      "[  9.30488110e-04   3.22160535e-02   9.69153941e-01] 2\n",
      "Correct: 73 Total: 75 Accuracy: 97.33333333333334 %\n"
     ]
    }
   ],
   "source": [
    "# 正解数のカウント\n",
    "correct = 0\n",
    "rowCount = y_test.shape[0]\n",
    "for i in range(rowCount):\n",
    "    maxIndex = np.argmax(y_test[i, :])\n",
    "    print(y_test[i, :], maxIndex)\n",
    "    if maxIndex == t_test[i]:\n",
    "        correct += 1\n",
    "\n",
    "# 正解率\n",
    "print(\"Correct:\" , correct, \"Total:\", rowCount, \"Accuracy:\", correct / rowCount * 100, \"%\")"
   ]
  },
  {
   "cell_type": "code",
   "execution_count": null,
   "metadata": {},
   "outputs": [],
   "source": []
  }
 ],
 "metadata": {
  "kernelspec": {
   "display_name": "Python 3",
   "language": "python",
   "name": "python3"
  },
  "language_info": {
   "codemirror_mode": {
    "name": "ipython",
    "version": 3
   },
   "file_extension": ".py",
   "mimetype": "text/x-python",
   "name": "python",
   "nbconvert_exporter": "python",
   "pygments_lexer": "ipython3",
   "version": "3.6.3"
  }
 },
 "nbformat": 4,
 "nbformat_minor": 2
}
