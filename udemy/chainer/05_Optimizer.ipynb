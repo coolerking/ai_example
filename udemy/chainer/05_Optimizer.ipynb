{
 "cells": [
  {
   "cell_type": "markdown",
   "metadata": {},
   "source": [
    "# Optimizer\n",
    "\n"
   ]
  },
  {
   "cell_type": "code",
   "execution_count": 6,
   "metadata": {},
   "outputs": [],
   "source": [
    "# coding: UTF-8\n",
    "import chainer\n",
    "import numpy as np\n",
    "from chainer import Variable, Chain, optimizers\n",
    "import chainer.links as L\n",
    "import chainer.functions as F"
   ]
  },
  {
   "cell_type": "code",
   "execution_count": 12,
   "metadata": {},
   "outputs": [],
   "source": [
    "# モデルを暮らすで記述\n",
    "class MyChain(Chain):\n",
    "    def __init__(self):\n",
    "        super().__init__(\n",
    "            l1 = L.Linear(1, 2),\n",
    "            l2 = L.Linear(2, 1)\n",
    "        )\n",
    "    \n",
    "    def __call__(self, x):\n",
    "        h = F.sigmoid(self.l1(x))\n",
    "        return self.l2(h)"
   ]
  },
  {
   "cell_type": "code",
   "execution_count": 13,
   "metadata": {},
   "outputs": [],
   "source": [
    "# Optimizer の記述\n",
    "model = MyChain()\n",
    "optimizer = optimizers.SGD() # 最適化アルゴリズム：確率的降下法\n",
    "# optimuzer = optimizers.Adam() # 最適化アルゴリズム：Adam\n",
    "optimizer.setup(model)"
   ]
  },
  {
   "cell_type": "code",
   "execution_count": 14,
   "metadata": {},
   "outputs": [
    {
     "name": "stdout",
     "output_type": "stream",
     "text": [
      "[[ 1.73679519]\n",
      " [-0.46360177]]\n",
      "[[ 1.73814857]\n",
      " [-0.46892995]]\n"
     ]
    }
   ],
   "source": [
    "# Optiomizer の実行\n",
    "input_array = np.array([[1]], dtype = np.float32) # 入力値の個数１\n",
    "answer_array = np.array([[1]], dtype = np.float32) # 回答の個数１\n",
    "x = Variable(input_array)\n",
    "t = Variable(answer_array)\n",
    "\n",
    "model.cleargrads()\n",
    "y = model(x)\n",
    "\n",
    "loss = F.mean_squared_error(y, t) # 2乗誤差\n",
    "loss.backward()\n",
    "\n",
    "print(model.l1.W.data) # 更新前のウェイト\n",
    "optimizer.update()\n",
    "print(model.l1.W.data) # 更新後のウェイト"
   ]
  },
  {
   "cell_type": "code",
   "execution_count": null,
   "metadata": {},
   "outputs": [],
   "source": []
  }
 ],
 "metadata": {
  "kernelspec": {
   "display_name": "Python 3",
   "language": "python",
   "name": "python3"
  },
  "language_info": {
   "codemirror_mode": {
    "name": "ipython",
    "version": 3
   },
   "file_extension": ".py",
   "mimetype": "text/x-python",
   "name": "python",
   "nbconvert_exporter": "python",
   "pygments_lexer": "ipython3",
   "version": "3.6.3"
  }
 },
 "nbformat": 4,
 "nbformat_minor": 2
}
