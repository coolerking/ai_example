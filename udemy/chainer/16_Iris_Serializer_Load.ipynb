{
 "cells": [
  {
   "cell_type": "markdown",
   "metadata": {},
   "source": [
    "# Serializerによるモデルの保存（読み込み）"
   ]
  },
  {
   "cell_type": "code",
   "execution_count": 1,
   "metadata": {},
   "outputs": [],
   "source": [
    "# coding: UTF-8\n",
    "\n",
    "import chainer\n",
    "from chainer import Variable, Chain, optimizers, serializers\n",
    "import chainer.links as L\n",
    "import chainer.functions as F\n",
    "\n",
    "# Trainer用\n",
    "from chainer.datasets import tuple_dataset\n",
    "from chainer import training, iterators\n",
    "from chainer.training import extensions\n",
    "\n",
    "import numpy as np\n",
    "from sklearn import datasets # Scikit Learn にIris dataset が含まれている"
   ]
  },
  {
   "cell_type": "code",
   "execution_count": 2,
   "metadata": {},
   "outputs": [],
   "source": [
    "# Iris データの読み込み\n",
    "iris_data = datasets.load_iris()"
   ]
  },
  {
   "cell_type": "code",
   "execution_count": 3,
   "metadata": {},
   "outputs": [],
   "source": [
    "x = iris_data.data.astype(np.float32)\n",
    "t = iris_data.target\n",
    "n = t.size"
   ]
  },
  {
   "cell_type": "code",
   "execution_count": 4,
   "metadata": {},
   "outputs": [],
   "source": [
    "# 教師データの下処理\n",
    "t_matrix = np.zeros(3 * n).reshape(n, 3).astype(np.float32)\n",
    "for i in range(n):\n",
    "    t_matrix[i, t[i]] = 1.0"
   ]
  },
  {
   "cell_type": "code",
   "execution_count": 5,
   "metadata": {},
   "outputs": [],
   "source": [
    "# 訓練用データとテスト用データ 半分が訓練用データで残りがテスト用データ\n",
    "indexes = np.arange(n)\n",
    "indexes_train = indexes[indexes%2 != 0]\n",
    "indexes_test = indexes[indexes%2 == 0]\n",
    "\n",
    "x_train = x[indexes_train, :] # 訓練用 入力\n",
    "t_train = t_matrix[indexes_train, :] # 訓練用 正解\n",
    "x_test = x[indexes_test, :] # テスト用 入力\n",
    "t_test = t[indexes_test] # テスト用 正解\n",
    "\n",
    "# tuple_dataset を使う\n",
    "train = tuple_dataset.TupleDataset(x_train, t_train)\n",
    "x_test_v = Variable(x_test)"
   ]
  },
  {
   "cell_type": "code",
   "execution_count": 6,
   "metadata": {},
   "outputs": [],
   "source": [
    "# Chain の記述\n",
    "class IrisChain(Chain):\n",
    "    def __init__(self):\n",
    "        super(IrisChain, self).__init__(\n",
    "            l1 = L.Linear(4, 6),\n",
    "            l2 = L.Linear(6, 6),\n",
    "            l3 = L.Linear(6, 3),\n",
    "        )\n",
    "    \n",
    "    def __call__(self, x, t):\n",
    "        return F.mean_squared_error(self.predict(x), t)\n",
    "        \n",
    "    def predict(self, x):\n",
    "        h1 = F.sigmoid(self.l1(x))\n",
    "        h2 = F.sigmoid(self.l2(h1))\n",
    "        h3 = self.l3(h2)\n",
    "        return h3"
   ]
  },
  {
   "cell_type": "code",
   "execution_count": 7,
   "metadata": {},
   "outputs": [],
   "source": [
    "# モデルとOptimizerの設定\n",
    "model = IrisChain()\n",
    "optimizer = optimizers.Adam()\n",
    "optimizer.setup(model)"
   ]
  },
  {
   "cell_type": "code",
   "execution_count": 8,
   "metadata": {},
   "outputs": [],
   "source": [
    "# 学習\n",
    "\n",
    "# Trainer を使う\n",
    "#train_iter = iterators.SerialIterator(train, 30) # 1回の学習30個だけ使う\n",
    "#updater = training.StandardUpdater(train_iter, optimizer)\n",
    "#trainer = training.Trainer(updater, (5000, 'epoch'))\n",
    "#trainer.extend(extensions.ProgressBar())\n",
    "#trainer.run()"
   ]
  },
  {
   "cell_type": "code",
   "execution_count": 10,
   "metadata": {},
   "outputs": [],
   "source": [
    "# モデルの読み込み\n",
    "serializers.load_npz(\"my_iris.npz\", model)"
   ]
  },
  {
   "cell_type": "code",
   "execution_count": 11,
   "metadata": {},
   "outputs": [],
   "source": [
    "# テスト\n",
    "model.cleargrads()\n",
    "y_test_v = model.predict(x_test_v)\n",
    "y_test = y_test_v.data"
   ]
  },
  {
   "cell_type": "code",
   "execution_count": 12,
   "metadata": {},
   "outputs": [
    {
     "name": "stdout",
     "output_type": "stream",
     "text": [
      "[ 1.00479472 -0.00155996 -0.00389822] 0\n",
      "[  1.00487888e+00  -6.99326396e-04  -5.55403531e-03] 0\n",
      "[ 1.00367308 -0.00137131 -0.00209506] 0\n",
      "[  1.00009620e+00   7.42450356e-04   3.67090106e-04] 0\n",
      "[ 0.99768138  0.00497569 -0.00294013] 0\n",
      "[ 1.00406015 -0.00160502 -0.00247093] 0\n",
      "[ 1.00387084  0.00185962 -0.0077184 ] 0\n",
      "[ 1.01073432 -0.00662695 -0.00699253] 0\n",
      "[ 1.00643158 -0.00479363 -0.00227375] 0\n",
      "[  1.00063419e+00  -6.70999289e-05   6.94081187e-04] 0\n",
      "[ 0.9988575   0.00292368 -0.00119169] 0\n",
      "[ 1.00872374 -0.00496553 -0.00560804] 0\n",
      "[ 0.98563766  0.01047422  0.00918202] 0\n",
      "[ 0.99441898  0.00414182  0.00336616] 0\n",
      "[ 1.0059092  -0.00168888 -0.00577946] 0\n",
      "[  9.94938970e-01   6.08690083e-03  -9.65148211e-05] 0\n",
      "[  1.00091159e+00  -6.83113933e-04   2.16142833e-03] 0\n",
      "[ 1.001683    0.00276209 -0.00534149] 0\n",
      "[ 1.01021051 -0.00447099 -0.00900705] 0\n",
      "[ 1.00216496  0.00163634 -0.00476964] 0\n",
      "[ 1.00576472 -0.00284313 -0.00395723] 0\n",
      "[  1.00243473e+00   4.74169850e-04  -2.96957791e-03] 0\n",
      "[ 0.98777211  0.00713946  0.01102023] 0\n",
      "[  9.99379992e-01   7.06568360e-04   2.42821872e-03] 0\n",
      "[ 1.00331581 -0.00123654 -0.00169511] 0\n",
      "[-0.00717114  1.03609836 -0.02230556] 1\n",
      "[ 0.00407089  0.90182632  0.09999268] 1\n",
      "[ 0.00183156  0.85095549  0.14536457] 1\n",
      "[ 0.01066165  0.88075519  0.12262921] 1\n",
      "[-0.00679427  1.01292372 -0.00685246] 1\n",
      "[-0.02136262  1.0866518  -0.0985231 ] 1\n",
      "[-0.03476563  1.03826714 -0.03735097] 1\n",
      "[ 0.0111762   1.05507803 -0.05431826] 1\n",
      "[ 0.00894089  0.75040978  0.25010759] 1\n",
      "[-0.01368026  0.5534485   0.43666285] 1\n",
      "[ 0.00768831  0.41629922  0.58655304] 2\n",
      "[-0.00770099  0.44701862  0.55119866] 2\n",
      "[-0.00960419  1.0511502  -0.04152532] 1\n",
      "[-0.00209902  0.88667566  0.11148934] 1\n",
      "[ 0.00611228  0.82332861  0.1751347 ] 1\n",
      "[-0.01349774  1.06895256 -0.07001741] 1\n",
      "[-0.00790843  1.06383026 -0.058369  ] 1\n",
      "[ 0.00899445  0.68375945  0.31736535] 1\n",
      "[ 0.00357394  0.96147585  0.04145496] 1\n",
      "[ 0.00499359  1.08418512 -0.07806034] 1\n",
      "[-0.00173023  0.88258952  0.11621146] 1\n",
      "[-0.00972836  1.06280851 -0.06056435] 1\n",
      "[ 0.00145815  0.9764629   0.02172677] 1\n",
      "[ 0.00262529  1.04917467 -0.04551192] 1\n",
      "[ 0.05995414  0.90279722  0.04838352] 1\n",
      "[ 0.00297147 -0.18188964  1.18068004] 2\n",
      "[-0.00106847 -0.06046782  1.06016171] 2\n",
      "[  3.26022506e-04  -1.21411309e-01   1.12016141e+00] 2\n",
      "[-0.00284067  0.13545449  0.86281282] 2\n",
      "[-0.00908469 -0.042926    1.0420543 ] 2\n",
      "[ 0.00464335  0.22348584  0.778485  ] 2\n",
      "[  1.44049525e-04   3.54547799e-03   9.95939791e-01] 2\n",
      "[ 0.00164133 -0.12942903  1.1242857 ] 2\n",
      "[ -8.45804811e-04   1.12456575e-01   8.90690267e-01] 2\n",
      "[-0.0040324  -0.18694268  1.18428838] 2\n",
      "[ 0.00197624 -0.07640974  1.07566881] 2\n",
      "[-0.00529638 -0.13279794  1.1326474 ] 2\n",
      "[ 0.00220144 -0.01068293  1.01286697] 2\n",
      "[ 0.00098668  0.32530594  0.67337638] 2\n",
      "[-0.00153418 -0.09150778  1.08946431] 2\n",
      "[-0.00568101 -0.03002261  1.03049946] 2\n",
      "[ -8.30247998e-04  -1.15613088e-01   1.11265147e+00] 2\n",
      "[-0.01058277  0.13599838  0.86974007] 2\n",
      "[ 0.00364706 -0.11484526  1.11465991] 2\n",
      "[ 0.00442825  0.3532089   0.6478855 ] 2\n",
      "[ 0.00200783 -0.11359195  1.11112475] 2\n",
      "[-0.00223517  0.01236196  0.98645741] 2\n",
      "[ 0.00318782 -0.13239925  1.13076496] 2\n",
      "[-0.00563188  0.08571251  0.90988827] 2\n",
      "[ 0.0040134  -0.05594866  1.05678678] 2\n",
      "Correct: 73 Total: 75 Accuracy: 97.33333333333334 %\n"
     ]
    }
   ],
   "source": [
    "# 正解数のカウント\n",
    "correct = 0\n",
    "rowCount = y_test.shape[0]\n",
    "for i in range(rowCount):\n",
    "    maxIndex = np.argmax(y_test[i, :])\n",
    "    print(y_test[i, :], maxIndex)\n",
    "    if maxIndex == t_test[i]:\n",
    "        correct += 1\n",
    "\n",
    "# 正解率\n",
    "print(\"Correct:\" , correct, \"Total:\", rowCount, \"Accuracy:\", correct / rowCount * 100, \"%\")"
   ]
  },
  {
   "cell_type": "code",
   "execution_count": null,
   "metadata": {},
   "outputs": [],
   "source": []
  }
 ],
 "metadata": {
  "kernelspec": {
   "display_name": "Python 3",
   "language": "python",
   "name": "python3"
  },
  "language_info": {
   "codemirror_mode": {
    "name": "ipython",
    "version": 3
   },
   "file_extension": ".py",
   "mimetype": "text/x-python",
   "name": "python",
   "nbconvert_exporter": "python",
   "pygments_lexer": "ipython3",
   "version": "3.6.3"
  }
 },
 "nbformat": 4,
 "nbformat_minor": 2
}
