{
 "cells": [
  {
   "cell_type": "markdown",
   "metadata": {},
   "source": [
    "# 特徴とは\n",
    "\n",
    "パターン認識に役立つ情報量の多い部分のこと\n",
    "\n",
    "- フラット（情報量少ない）\n",
    "\n",
    "- エッジ（情報量中）\n",
    "\n",
    "- コーナー（情報量多い）\n",
    "\n",
    "# どうやって\n",
    "\n",
    "理解には、線形代数の知識が必要\n",
    "\n",
    "フラット：画像の中に方向性がない\n",
    "固有ベクトルと固有値を求める\n",
    "\n",
    "フラットだと固有ベクトルはどの方向にも少しづつ伸びている\n",
    "\n",
    "エッジだと固有ベクトルがどれか一つ異様に伸びている\n",
    "\n",
    "コーナーはエッジが2つある、固有値の大きい固有ベクトルが２つある\n",
    "\n",
    "→ハリスのコーナ検出：固有値を調べる\n",
    "\n",
    "# アルゴリズムの種類\n",
    "\n",
    "ハリスいがいにも\n",
    "SIFT（特許取得）、SURF（特許取得）、ORB、KAZE、AKAZEがある\n"
   ]
  },
  {
   "cell_type": "code",
   "execution_count": 1,
   "metadata": {},
   "outputs": [],
   "source": [
    "import cv2\n",
    "import numpy as np\n",
    "import copy"
   ]
  },
  {
   "cell_type": "code",
   "execution_count": 2,
   "metadata": {},
   "outputs": [],
   "source": [
    "img = cv2.imread(\"src/buildings.jpg\")\n",
    "img_g = cv2.imread(\"src/buildings.jpg\", 0)"
   ]
  },
  {
   "cell_type": "code",
   "execution_count": 3,
   "metadata": {},
   "outputs": [],
   "source": [
    "# 元画像にうわがきされるので先にコピー\n",
    "img_harris = copy.deepcopy(img)\n",
    "img_dst = cv2.cornerHarris(img_g, 2, 3, 0.04)"
   ]
  },
  {
   "cell_type": "code",
   "execution_count": 4,
   "metadata": {},
   "outputs": [],
   "source": [
    "img_harris[img_dst > 0.05 * img_dst.max()] = [0, 0, 255]"
   ]
  },
  {
   "cell_type": "code",
   "execution_count": 5,
   "metadata": {},
   "outputs": [],
   "source": [
    "cv2.imshow(\"img\", img_harris)\n",
    "cv2.waitKey(0)\n",
    "cv2.destroyAllWindows()"
   ]
  },
  {
   "cell_type": "code",
   "execution_count": 6,
   "metadata": {},
   "outputs": [],
   "source": [
    "img_kaze = copy.deepcopy(img)\n",
    "kaze = cv2.KAZE_create()\n",
    "kp1 = kaze.detect(img, None)\n",
    "img_kaze = cv2.drawKeypoints(img_kaze, kp1, None)\n",
    "\n",
    "cv2.imshow(\"img\", img_kaze)\n",
    "cv2.waitKey(0)\n",
    "cv2.destroyAllWindows()"
   ]
  },
  {
   "cell_type": "code",
   "execution_count": 7,
   "metadata": {},
   "outputs": [],
   "source": [
    "img_kaze = copy.deepcopy(img)\n",
    "akaze = cv2.AKAZE_create()\n",
    "kp1 = akaze.detect(img, None)\n",
    "img_kaze = cv2.drawKeypoints(img_kaze, kp1, None)\n",
    "\n",
    "cv2.imshow(\"img\", img_kaze)\n",
    "cv2.waitKey(0)\n",
    "cv2.destroyAllWindows()"
   ]
  },
  {
   "cell_type": "code",
   "execution_count": 8,
   "metadata": {},
   "outputs": [],
   "source": [
    "img_orb = copy.deepcopy(img)\n",
    "orb = cv2.ORB_create()\n",
    "kp2 = orb.detect(img_orb)\n",
    "\n",
    "img_orb =cv2.drawKeypoints(img_orb, kp2, None)\n",
    "\n",
    "cv2.imshow(\"img\", img_orb)\n",
    "cv2.waitKey(0)\n",
    "cv2.destroyAllWindows()"
   ]
  },
  {
   "cell_type": "code",
   "execution_count": 11,
   "metadata": {},
   "outputs": [],
   "source": [
    "cv2.imshow(\"Harris\", img_harris)\n",
    "cv2.imshow(\"ORB\", img_orb)\n",
    "cv2.imshow(\"AKAZE\", img_kaze)\n",
    "\n",
    "cv2.waitKey(0)\n",
    "cv2.destroyAllWindows()"
   ]
  },
  {
   "cell_type": "code",
   "execution_count": null,
   "metadata": {},
   "outputs": [],
   "source": []
  }
 ],
 "metadata": {
  "kernelspec": {
   "display_name": "Python 3",
   "language": "python",
   "name": "python3"
  },
  "language_info": {
   "codemirror_mode": {
    "name": "ipython",
    "version": 3
   },
   "file_extension": ".py",
   "mimetype": "text/x-python",
   "name": "python",
   "nbconvert_exporter": "python",
   "pygments_lexer": "ipython3",
   "version": "3.5.4"
  }
 },
 "nbformat": 4,
 "nbformat_minor": 2
}
