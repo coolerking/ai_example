{
 "cells": [
  {
   "cell_type": "markdown",
   "metadata": {},
   "source": [
    "# MeanShift/Camshift\n",
    "\n",
    "ピクセルの密度最大の場所を追いかける\n",
    "\n",
    "## MeanShift\n",
    "\n",
    "- ある場所から探索窓が出発する(ユーザが指定)\n",
    "- 探索窓内の画素値の重心を計算\n",
    "- 探索窓の中心を重心に移す\n",
    "- 2番め3番めを繰り返す\n",
    "\n",
    "ピクセル密度が最大の方向へ進んでいく\n",
    "\n",
    "## CamShift\n",
    "\n",
    "対象物に応じて探索窓の大きさが可変になる\n",
    "\n",
    "\n",
    "\n",
    "## ポイント\n",
    "\n",
    "- 探索開始場所や窓の大きさのパラメータ次第で答えが変わる\n",
    "\n",
    " - 窓の大きさはCamShiftで補える"
   ]
  },
  {
   "cell_type": "code",
   "execution_count": 5,
   "metadata": {},
   "outputs": [],
   "source": [
    "import cv2"
   ]
  },
  {
   "cell_type": "code",
   "execution_count": 6,
   "metadata": {},
   "outputs": [],
   "source": [
    "cap = cv2.VideoCapture(\"movie/Cruse.mp4\")\n",
    "ret, frame = cap.read()\n",
    "h, w, ch = frame.shape"
   ]
  },
  {
   "cell_type": "code",
   "execution_count": 7,
   "metadata": {},
   "outputs": [],
   "source": [
    "# 開始位置\n",
    "rct = (600, 500, 200, 200)\n",
    "cv2.namedWindow(\"win\", cv2.WINDOW_NORMAL)\n",
    "cv2.resizeWindow(\"win\", 1200, 800)\n",
    "cri = (cv2.TERM_CRITERIA_COUNT | cv2.TERM_CRITERIA_EPS, 10, 1)\n",
    "while True:\n",
    "    threshold = 100\n",
    "    ret, frame = cap.read()\n",
    "    if ret== False:\n",
    "        break\n",
    "    img_g = cv2.cvtColor(frame, cv2.COLOR_BGR2GRAY)\n",
    "    ret, img_bin = cv2.threshold(img_g, threshold, 255, cv2.THRESH_BINARY)\n",
    "    ret, rct = cv2.meanShift(img_bin, rct, cri)\n",
    "    #ret, rct = cv2.CamShift(img_bin, rct, cri)\n",
    "    x, y, w, h = rct\n",
    "    frame = cv2.rectangle(frame, (x, y), (x+w, y+h), (255,0,0), 3)\n",
    "    cv2.imshow(\"win\", frame)\n",
    "    if cv2.waitKey(10)==27:\n",
    "        break\n",
    "cv2.destroyAllWindows()"
   ]
  },
  {
   "cell_type": "code",
   "execution_count": null,
   "metadata": {},
   "outputs": [],
   "source": []
  }
 ],
 "metadata": {
  "kernelspec": {
   "display_name": "Python 3",
   "language": "python",
   "name": "python3"
  },
  "language_info": {
   "codemirror_mode": {
    "name": "ipython",
    "version": 3
   },
   "file_extension": ".py",
   "mimetype": "text/x-python",
   "name": "python",
   "nbconvert_exporter": "python",
   "pygments_lexer": "ipython3",
   "version": "3.5.4"
  }
 },
 "nbformat": 4,
 "nbformat_minor": 2
}
