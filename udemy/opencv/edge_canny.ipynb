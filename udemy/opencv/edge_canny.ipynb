{
 "cells": [
  {
   "cell_type": "markdown",
   "metadata": {},
   "source": [
    "# Canny\n",
    "\n",
    "ノイズをうまく取り除き、エッジを検出する\n",
    "\n",
    "## アルゴリズム\n",
    "\n",
    "- Gaussian でぼかす→ノイズ除去\n",
    "- Sobelフィルタで微分→ｘ，ｙ両方得る→2乗和をとる\n",
    "- 極大点を探す\n",
    "- 2段階の閾値処理でエッジを残す→2段めの閾値で細かいエッジも残す"
   ]
  },
  {
   "cell_type": "code",
   "execution_count": 1,
   "metadata": {},
   "outputs": [],
   "source": [
    "import cv2"
   ]
  },
  {
   "cell_type": "code",
   "execution_count": 2,
   "metadata": {},
   "outputs": [],
   "source": [
    "img = cv2.imread(\"src/Lena.jpg\", 0)"
   ]
  },
  {
   "cell_type": "code",
   "execution_count": 3,
   "metadata": {},
   "outputs": [],
   "source": [
    "# Cannyのエッジ検出\n",
    "img_canny = cv2.Canny(img, 10, 100)\n",
    "\n",
    "cv2.imshow(\"Canny\", img_canny)\n",
    "cv2.waitKey(0)\n",
    "cv2.destroyAllWindows()"
   ]
  },
  {
   "cell_type": "code",
   "execution_count": 4,
   "metadata": {},
   "outputs": [],
   "source": [
    "# Cannyのエッジ検出2\n",
    "img_canny = cv2.Canny(img, 100, 200)\n",
    "\n",
    "cv2.imshow(\"Canny\", img_canny)\n",
    "cv2.waitKey(0)\n",
    "cv2.destroyAllWindows()"
   ]
  },
  {
   "cell_type": "code",
   "execution_count": null,
   "metadata": {},
   "outputs": [],
   "source": []
  }
 ],
 "metadata": {
  "kernelspec": {
   "display_name": "Python 3",
   "language": "python",
   "name": "python3"
  },
  "language_info": {
   "codemirror_mode": {
    "name": "ipython",
    "version": 3
   },
   "file_extension": ".py",
   "mimetype": "text/x-python",
   "name": "python",
   "nbconvert_exporter": "python",
   "pygments_lexer": "ipython3",
   "version": "3.5.4"
  }
 },
 "nbformat": 4,
 "nbformat_minor": 2
}
