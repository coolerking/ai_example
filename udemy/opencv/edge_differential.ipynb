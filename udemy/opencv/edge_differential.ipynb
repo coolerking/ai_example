{
 "cells": [
  {
   "cell_type": "markdown",
   "metadata": {},
   "source": [
    "# 画像の微分\n",
    "## 微分\n",
    "\n",
    "小さな区間の関数の変化\n",
    "\n",
    "## 画像の微分\n",
    "\n",
    "隣の画素値－自分の画素値＝傾き\n",
    "\n",
    "画像を微分するとエッジが検出できる"
   ]
  },
  {
   "cell_type": "code",
   "execution_count": 1,
   "metadata": {},
   "outputs": [],
   "source": [
    "# エッジの検出\n",
    "import cv2"
   ]
  },
  {
   "cell_type": "code",
   "execution_count": 2,
   "metadata": {},
   "outputs": [],
   "source": [
    "img = cv2.imread(\"src/Lena.jpg\", 0)\n",
    "cv2.imshow(\"img\", img)\n",
    "cv2.waitKey(0)\n",
    "cv2.destroyAllWindows()"
   ]
  },
  {
   "cell_type": "code",
   "execution_count": 4,
   "metadata": {},
   "outputs": [],
   "source": [
    "# x方向にSobelフィルタ\n",
    "img_sobelx = cv2.Sobel(img, cv2.CV_32F, 1, 0, ksize=3)\n",
    "# y方向にSobelフィルタ\n",
    "img_sobely = cv2.Sobel(img, cv2.CV_32F, 0, 1, ksize=3)\n",
    "\n",
    "\n",
    "cv2.imshow(\"x\", img_sobelx)\n",
    "cv2.imshow(\"y\", img_sobely)\n",
    "#cv2.imshow(\"src\", img)\n",
    "cv2.waitKey(0)\n",
    "cv2.destroyAllWindows()"
   ]
  },
  {
   "cell_type": "code",
   "execution_count": 5,
   "metadata": {},
   "outputs": [],
   "source": [
    "# ラプラシアン変換(全方向２次微分)\n",
    "img_lap = cv2.Laplacian(img, cv2.CV_32F )\n",
    "\n",
    "cv2.imshow(\"lap\", img_lap)\n",
    "cv2.waitKey(0)\n",
    "cv2.destroyAllWindows()"
   ]
  },
  {
   "cell_type": "code",
   "execution_count": null,
   "metadata": {},
   "outputs": [],
   "source": [
    "# ガウシアン平滑化→ラプラシアン変換\n",
    "img_blur = cv2.GaussianBlur(i)"
   ]
  }
 ],
 "metadata": {
  "kernelspec": {
   "display_name": "Python 3",
   "language": "python",
   "name": "python3"
  },
  "language_info": {
   "codemirror_mode": {
    "name": "ipython",
    "version": 3
   },
   "file_extension": ".py",
   "mimetype": "text/x-python",
   "name": "python",
   "nbconvert_exporter": "python",
   "pygments_lexer": "ipython3",
   "version": "3.5.4"
  }
 },
 "nbformat": 4,
 "nbformat_minor": 2
}
