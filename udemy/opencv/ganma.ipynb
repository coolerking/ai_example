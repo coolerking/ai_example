{
 "cells": [
  {
   "cell_type": "markdown",
   "metadata": {},
   "source": [
    "# γ（ガンマ）変換\n",
    "\n",
    "```math\n",
    "y = 255 ( \\frac{x}/{255} )^{\\frac{1}/{\\gamma}}\n",
    "\n",
    "```\n",
    "x:入力する画素値、y:出力する画素値\n",
    "\n",
    "ガンマが1はそのまま、１を切る場合→より暗く、１より上→より明るく"
   ]
  },
  {
   "cell_type": "code",
   "execution_count": 1,
   "metadata": {},
   "outputs": [],
   "source": [
    "import cv2\n",
    "import numpy as np"
   ]
  },
  {
   "cell_type": "code",
   "execution_count": 2,
   "metadata": {},
   "outputs": [],
   "source": [
    "# 1より大きいと明るく、1より小さいと暗くなる\n",
    "gamma = 1.5 # 0.4\n",
    "img = cv2.imread(\"src/Berry.jpg\")\n",
    "\n",
    "# 初期値0(uint8)の(256,1)型式のnparray\n",
    "gamma_cvt = np.zeros((256,1), dtype=np.uint8)\n",
    "for i in range(256):\n",
    "    # ガンマ変換式\n",
    "    gamma_cvt[i][0] = 255 * (float(i)/255) **(1.0 / gamma)\n",
    "\n",
    "# ガンマ変換\n",
    "img_gamma = cv2.LUT(img, gamma_cvt)\n",
    "cv2.imshow(\"img\", img)\n",
    "cv2.imshow(\"gamma\", img_gamma)\n",
    "cv2.waitKey(0)\n",
    "cv2.destroyAllWindows()"
   ]
  },
  {
   "cell_type": "code",
   "execution_count": null,
   "metadata": {},
   "outputs": [],
   "source": []
  }
 ],
 "metadata": {
  "kernelspec": {
   "display_name": "Python 3",
   "language": "python",
   "name": "python3"
  },
  "language_info": {
   "codemirror_mode": {
    "name": "ipython",
    "version": 3
   },
   "file_extension": ".py",
   "mimetype": "text/x-python",
   "name": "python",
   "nbconvert_exporter": "python",
   "pygments_lexer": "ipython3",
   "version": "3.5.4"
  }
 },
 "nbformat": 4,
 "nbformat_minor": 2
}
