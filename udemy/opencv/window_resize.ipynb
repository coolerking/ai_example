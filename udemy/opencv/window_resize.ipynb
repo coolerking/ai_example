{
 "cells": [
  {
   "cell_type": "code",
   "execution_count": 1,
   "metadata": {},
   "outputs": [],
   "source": [
    "import cv2"
   ]
  },
  {
   "cell_type": "code",
   "execution_count": 2,
   "metadata": {},
   "outputs": [],
   "source": [
    "# 読み込み\n",
    "img = cv2.imread(\"src/Lena.jpg\")\n",
    "\n",
    "# 画面設定\n",
    "cv2.namedWindow(\"window\", cv2.WINDOW_AUTOSIZE)\n",
    "\n",
    "# 画面表示\n",
    "cv2.imshow(\"window\", img)\n",
    "\n",
    "# ずっと表示\n",
    "cv2.waitKey(0)\n",
    "\n",
    "# 画面終了\n",
    "cv2.destroyAllWindows()"
   ]
  },
  {
   "cell_type": "code",
   "execution_count": 3,
   "metadata": {},
   "outputs": [],
   "source": [
    "# 読み込み\n",
    "img = cv2.imread(\"src/Lena.jpg\")\n",
    "\n",
    "# 画面設定\n",
    "cv2.namedWindow(\"window\", cv2.WINDOW_NORMAL)\n",
    "\n",
    "# 画面表示\n",
    "cv2.imshow(\"window\", img)\n",
    "\n",
    "# ずっと表示\n",
    "cv2.waitKey(0)\n",
    "\n",
    "# 画面終了\n",
    "cv2.destroyAllWindows()"
   ]
  },
  {
   "cell_type": "code",
   "execution_count": null,
   "metadata": {},
   "outputs": [],
   "source": []
  }
 ],
 "metadata": {
  "kernelspec": {
   "display_name": "Python 3",
   "language": "python",
   "name": "python3"
  },
  "language_info": {
   "codemirror_mode": {
    "name": "ipython",
    "version": 3
   },
   "file_extension": ".py",
   "mimetype": "text/x-python",
   "name": "python",
   "nbconvert_exporter": "python",
   "pygments_lexer": "ipython3",
   "version": "3.5.4"
  }
 },
 "nbformat": 4,
 "nbformat_minor": 2
}
