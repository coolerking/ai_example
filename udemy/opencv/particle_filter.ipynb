{
 "cells": [
  {
   "cell_type": "markdown",
   "metadata": {},
   "source": [
    "乱数をもちいて状態を変化させる方法\n",
    "\n",
    "- パーティクルをばらまく\n",
    "\n",
    "乱数を使ってn個のパーティクルをばらまく\n",
    "\n",
    "- パーティクルの尤度を計算\n",
    "\n",
    "ガウス分布などを使って計算する\n",
    "\n",
    "- リサンプリング（尤度におうじて選ぶ）\n",
    "\n",
    "乱数でn個の粒子を選び直す。\n",
    "尤度が高い粒子ほど選ばれやすい\n",
    "\n",
    "- パーティクルの状態を更新\n",
    "\n",
    "パーティクルの座標をランダムウォークさせる"
   ]
  },
  {
   "cell_type": "code",
   "execution_count": 1,
   "metadata": {},
   "outputs": [],
   "source": [
    "# OpenCVにないので自力でコーディングする\n",
    "import cv2\n",
    "import numpy as np\n",
    "import random2\n",
    "import likelihood as li"
   ]
  },
  {
   "cell_type": "code",
   "execution_count": 2,
   "metadata": {},
   "outputs": [],
   "source": [
    "cap = cv2.VideoCapture(\"movie/Tram.mp4\")\n",
    "ret, frame = cap.read()\n",
    "h, w = frame.shape[:2]\n",
    "np.random.seed(100)\n",
    "Np = 500\n",
    "px = np.zeros((Np), dtype=np.int64)\n",
    "py = np.zeros((Np), dtype=np.int64)\n",
    "lp = np.zeros((Np))\n",
    "for i in range(Np):\n",
    "    px[i] = int(np.random.uniform(0, w))\n",
    "    py[i] = int(np.random.uniform(0, h))\n",
    "obj = [0, 110, 160]\n",
    "while True:\n",
    "    ret, frame = cap.read()\n",
    "    if ret == False:\n",
    "        break\n",
    "    lp = li.likelihood(frame, px, py, obj, Np, sigma2=0.001)\n",
    "    pxnew = np.array(random2.choices(population=px, weights=lp, k = Np)) + np.random.randint(-15,15,Np)\n",
    "    pynew =np.array(random2.choices(population=py, weights=lp, k = Np)) + np.random.randint(-15,15,Np)\n",
    "    px = np.where(pxnew > w-1, w-1,pxnew)\n",
    "    py = np.where(pynew > h-1, h-1,pynew)\n",
    "    px = np.where(px<0, 0, px)\n",
    "    py = np.where(py<0, 0, py)\n",
    "    for i in range(Np):\n",
    "        cv2.circle(frame, (px[i], py[i]), 1, (0,255,0), 1)\n",
    "    cv2.imshow(\"img\", frame)\n",
    "    if cv2.waitKey(10)==27:\n",
    "        break\n",
    "cv2.destroyAllWindows()"
   ]
  },
  {
   "cell_type": "code",
   "execution_count": null,
   "metadata": {},
   "outputs": [],
   "source": []
  }
 ],
 "metadata": {
  "kernelspec": {
   "display_name": "Python 3",
   "language": "python",
   "name": "python3"
  },
  "language_info": {
   "codemirror_mode": {
    "name": "ipython",
    "version": 3
   },
   "file_extension": ".py",
   "mimetype": "text/x-python",
   "name": "python",
   "nbconvert_exporter": "python",
   "pygments_lexer": "ipython3",
   "version": "3.5.4"
  }
 },
 "nbformat": 4,
 "nbformat_minor": 2
}
