{
 "cells": [
  {
   "cell_type": "markdown",
   "metadata": {},
   "source": [
    "# Q-ネットワーク\n",
    "\n",
    "- モデルが大きくなると **Qテーブルサイズ増大** ↑\n",
    " - メモリ、計算量が膨大に\n",
    "\n",
    "- そこで **行列計算** にして **TensorFlow に自動計算させたい**\n",
    " - ステート(1行16列のテンソル) × 重み > 4つのQ値（価値）\n",
    " - Q値の目標値と推定値の2乗和誤差を最小にする **重み** を計算\n",
    "\n",
    "\\begin{equation*}\n",
    "Loss(損失関数) = \\sum (Q-target - Q)^2\n",
    "\\end{equation*}"
   ]
  },
  {
   "cell_type": "code",
   "execution_count": 40,
   "metadata": {},
   "outputs": [],
   "source": [
    "import gym"
   ]
  },
  {
   "cell_type": "code",
   "execution_count": 41,
   "metadata": {},
   "outputs": [],
   "source": [
    "import numpy as np"
   ]
  },
  {
   "cell_type": "code",
   "execution_count": 42,
   "metadata": {},
   "outputs": [],
   "source": [
    "import random"
   ]
  },
  {
   "cell_type": "code",
   "execution_count": 43,
   "metadata": {},
   "outputs": [],
   "source": [
    "import tensorflow as tf"
   ]
  },
  {
   "cell_type": "code",
   "execution_count": 44,
   "metadata": {},
   "outputs": [],
   "source": [
    "import matplotlib.pyplot as plt\n",
    "%matplotlib inline"
   ]
  },
  {
   "cell_type": "code",
   "execution_count": 45,
   "metadata": {},
   "outputs": [],
   "source": [
    "# FrozenLake 問題 4x4\n",
    "env = gym.make('FrozenLake-v0')"
   ]
  },
  {
   "cell_type": "code",
   "execution_count": 46,
   "metadata": {},
   "outputs": [
    {
     "data": {
      "text/plain": [
       "<function tensorflow.python.framework.ops.reset_default_graph>"
      ]
     },
     "execution_count": 46,
     "metadata": {},
     "output_type": "execute_result"
    }
   ],
   "source": [
    "# TensorFlowの初期化\n",
    "tf.reset_default_graph"
   ]
  },
  {
   "cell_type": "code",
   "execution_count": 47,
   "metadata": {},
   "outputs": [],
   "source": [
    "# 入力値を格納する変数\n",
    "inputs1 = tf.placeholder(shape=[1, env.observation_space.n], dtype=tf.float32)"
   ]
  },
  {
   "cell_type": "code",
   "execution_count": 48,
   "metadata": {},
   "outputs": [],
   "source": [
    "# 重み\n",
    "# 学習しやすくするために分散を0.01として正規分布でランダムにセット\n",
    "W = tf.Variable(tf.random_uniform([env.observation_space.n, env.action_space.n], 0, 0.01))"
   ]
  },
  {
   "cell_type": "code",
   "execution_count": 49,
   "metadata": {},
   "outputs": [],
   "source": [
    "# Q値の計算値を格納する領域\n",
    "Qout = tf.matmul(inputs1, W)"
   ]
  },
  {
   "cell_type": "code",
   "execution_count": 50,
   "metadata": {},
   "outputs": [],
   "source": [
    "# 報酬値 Q値の推定値を最大にする指し手を返す\n",
    "predict = tf.argmax(Qout, 1)"
   ]
  },
  {
   "cell_type": "code",
   "execution_count": 51,
   "metadata": {},
   "outputs": [],
   "source": [
    "# Q値の推定値\n",
    "nextQ = tf.placeholder(shape=[1,  env.action_space.n], dtype=tf.float32)"
   ]
  },
  {
   "cell_type": "code",
   "execution_count": 52,
   "metadata": {},
   "outputs": [],
   "source": [
    "# 損失関数:2乗和誤差の平均値を取る\n",
    "loss = tf.reduce_sum(tf.square(nextQ - Qout))"
   ]
  },
  {
   "cell_type": "code",
   "execution_count": 53,
   "metadata": {},
   "outputs": [],
   "source": [
    "# トレーニングを行うアルゴリズムの指定：勾配降下法、学習レート0,1\n",
    "trainer = tf.train.GradientDescentOptimizer(learning_rate=0.1)"
   ]
  },
  {
   "cell_type": "code",
   "execution_count": 54,
   "metadata": {},
   "outputs": [],
   "source": [
    "# モデルの更新:損失関数を最小にするように更新させる\n",
    "updateModel = trainer.minimize(loss)"
   ]
  },
  {
   "cell_type": "code",
   "execution_count": 55,
   "metadata": {},
   "outputs": [],
   "source": [
    "# 計算モデル上の変数を初期化\n",
    "init = tf.global_variables_initializer()"
   ]
  },
  {
   "cell_type": "code",
   "execution_count": 56,
   "metadata": {},
   "outputs": [],
   "source": [
    "# 割引率\n",
    "y = 0.99\n",
    "# 選択するアクションのパラメータe\n",
    "e  = 0.1\n",
    "# 試行回数\n",
    "num_episodes = 2000"
   ]
  },
  {
   "cell_type": "code",
   "execution_count": 57,
   "metadata": {},
   "outputs": [],
   "source": [
    "#ステップごとの報酬を格納するリスト\n",
    "jList = []\n",
    "# トータルの報酬を格納するリスト\n",
    "rList = []"
   ]
  },
  {
   "cell_type": "markdown",
   "metadata": {},
   "source": [
    "![Qネットワーク学習(社外環境参照禁止)](http://www-end.exa-corp.co.jp/pukiwiki/file/AI/udemy_reinforce_learning/QnetworkLearn.png)"
   ]
  },
  {
   "cell_type": "code",
   "execution_count": 58,
   "metadata": {},
   "outputs": [
    {
     "name": "stdout",
     "output_type": "stream",
     "text": [
      "Suucess Episode Ratio:0.283%\n"
     ]
    }
   ],
   "source": [
    "# TensorFlow セッション\n",
    "with tf.Session() as sess:\n",
    "    # 変数の初期化\n",
    "    sess.run(init)\n",
    "    # 試行ループ\n",
    "    for i in range(num_episodes):\n",
    "        # FrozenLakeの開始\n",
    "        s = env.reset()\n",
    "        # 報酬の累積和の初期化\n",
    "        rAll = 0\n",
    "        # Holeに落ちたらdieのd\n",
    "        d = False\n",
    "        # 1試行内のカウンタ(step()回数)\n",
    "        j = 0\n",
    "        # カウンタループ\n",
    "        while j < 99:\n",
    "            # カウンタ加算\n",
    "            j += 1\n",
    "            # 次の指し手を予測させる\n",
    "            # predict: 一番大きな方向を指し示す\n",
    "            # Qout: Q値の計算値\n",
    "            # np.identity(env.observation_space.n)[s:s+1]: 単位行列のs番目の値を取り出す\n",
    "            a, allQ = sess.run([predict, Qout], feed_dict={\n",
    "                inputs1: np.identity(env.observation_space.n)[s:s+1]})\n",
    "            \n",
    "            # e-グリーディ法\n",
    "            #  ランダムな指し手：exploreを入れる\n",
    "            #  既にわかっている良い手を使うのはexploit\n",
    "            \n",
    "            # 1以下の値をランダムに取得し、それがεより小さい場合\n",
    "            if np.random.rand(1) < e:\n",
    "                # 指し手を提案させる\n",
    "                a[0] = env.action_space.sample()\n",
    "            # action を渡すと結果を返すメソッドstep()\n",
    "            # 結果：新しい指し手、報酬の結果、指し手の結果穴に落ちたか\n",
    "            s1, r, d, _ = env.step(a[0])\n",
    "            # 次のQ値\n",
    "            Q1 = sess.run(Qout, feed_dict={\n",
    "                inputs1:np.identity(env.observation_space.n)[s1:s1+1]})\n",
    "            # 最大のQ値をとりだす\n",
    "            maxQ1 = np.max(Q1)\n",
    "            # Q値の計算値をtargetQへ格納\n",
    "            targetQ = allQ\n",
    "            # targetQの先頭をベルマン方程式で更新し次のQ値にする\n",
    "            targetQ[0, a[0]] = r + y * maxQ1\n",
    "            \n",
    "            # 重みの更新\n",
    "            _, W1 = sess.run([updateModel, W], feed_dict={\n",
    "                inputs1: np.identity(env.observation_space.n)[s:s+1], \n",
    "                nextQ:   targetQ})\n",
    "            # 累積和を計算\n",
    "            rAll += r\n",
    "            # 次の状態を現在の状態にして次のループに供える\n",
    "            s = s1\n",
    "            # もし穴に落ちていたら\n",
    "            if d == True:\n",
    "                # 閾値を更新し、次のエピソードへ\n",
    "                e = 1.0/((i/50) + 10)\n",
    "                break\n",
    "        # 各エピソードで何回まで進んだか\n",
    "        jList.append(j)\n",
    "        # 報酬の累積和リストのさいごに追加\n",
    "        rList.append(rAll)\n",
    "\n",
    "print(\"Suucess Episode Ratio:\" + str(sum(rList)/num_episodes) + \"%\")"
   ]
  },
  {
   "cell_type": "code",
   "execution_count": 60,
   "metadata": {},
   "outputs": [
    {
     "data": {
      "text/plain": [
       "[<matplotlib.lines.Line2D at 0x7f26c42b2e10>]"
      ]
     },
     "execution_count": 60,
     "metadata": {},
     "output_type": "execute_result"
    },
    {
     "data": {
      "image/png": "[encoded data removed]",
      "text/plain": [
       "<matplotlib.figure.Figure at 0x7f26c4402358>"
      ]
     },
     "metadata": {},
     "output_type": "display_data"
    }
   ],
   "source": [
    "# 1:成功、0:失敗\n",
    "plt.plot(rList)"
   ]
  },
  {
   "cell_type": "code",
   "execution_count": 61,
   "metadata": {},
   "outputs": [
    {
     "data": {
      "text/plain": [
       "[<matplotlib.lines.Line2D at 0x7f26c40b8588>]"
      ]
     },
     "execution_count": 61,
     "metadata": {},
     "output_type": "execute_result"
    },
    {
     "data": {
      "image/png": "[encoded data removed]",
      "text/plain": [
       "<matplotlib.figure.Figure at 0x7f26c4301c50>"
      ]
     },
     "metadata": {},
     "output_type": "display_data"
    }
   ],
   "source": [
    "# 何回で成功or失敗したか\n",
    "plt.plot(jList)"
   ]
  },
  {
   "cell_type": "code",
   "execution_count": null,
   "metadata": {},
   "outputs": [],
   "source": []
  }
 ],
 "metadata": {
  "kernelspec": {
   "display_name": "Python 3",
   "language": "python",
   "name": "python3"
  },
  "language_info": {
   "codemirror_mode": {
    "name": "ipython",
    "version": 3
   },
   "file_extension": ".py",
   "mimetype": "text/x-python",
   "name": "python",
   "nbconvert_exporter": "python",
   "pygments_lexer": "ipython3",
   "version": "3.5.2"
  }
 },
 "nbformat": 4,
 "nbformat_minor": 2
}
