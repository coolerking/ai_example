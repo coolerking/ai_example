{
 "cells": [
  {
   "cell_type": "code",
   "execution_count": 1,
   "metadata": {
    "collapsed": true
   },
   "outputs": [],
   "source": [
    "import tensorflow as tf\n",
    "import numpy as np"
   ]
  },
  {
   "cell_type": "code",
   "execution_count": 2,
   "metadata": {
    "collapsed": true
   },
   "outputs": [],
   "source": [
    "bandits = [0.2,-0.5,-0.2,0]\n",
    "num_bandits = len(bandits)"
   ]
  },
  {
   "cell_type": "markdown",
   "metadata": {},
   "source": [
    "アームを引いて報酬を返す関数を定義"
   ]
  },
  {
   "cell_type": "code",
   "execution_count": 3,
   "metadata": {
    "collapsed": true
   },
   "outputs": [],
   "source": [
    "def pullBandit(bandit):\n",
    "    result = np.random.randn(1)\n",
    "    if result > bandit:\n",
    "        return 1\n",
    "    else:\n",
    "        return -1"
   ]
  },
  {
   "cell_type": "markdown",
   "metadata": {},
   "source": [
    "グラフを定義する"
   ]
  },
  {
   "cell_type": "code",
   "execution_count": 5,
   "metadata": {},
   "outputs": [],
   "source": [
    "tf.reset_default_graph()\n",
    "weights = tf.Variable(tf.ones([num_bandits]))\n",
    "chosen_action = tf.argmax(weights,0)\n",
    "\n",
    "reward_holder = tf.placeholder(shape=[1],dtype=tf.float32)\n",
    "action_holder = tf.placeholder(shape=[1],dtype=tf.int32)\n",
    "responsible_weight = tf.slice(weights,action_holder,[1])\n",
    "loss = -(tf.log(responsible_weight)*reward_holder)\n",
    "optimizer = tf.train.GradientDescentOptimizer(learning_rate=0.001)\n",
    "update = optimizer.minimize(loss)"
   ]
  },
  {
   "cell_type": "markdown",
   "metadata": {},
   "source": [
    "エージェントをトレーニングする"
   ]
  },
  {
   "cell_type": "code",
   "execution_count": 20,
   "metadata": {},
   "outputs": [
    {
     "name": "stdout",
     "output_type": "stream",
     "text": [
      "リワード・報酬の一覧：[-1.  0.  0.  0.]\n",
      "リワード・報酬の一覧：[ -1.  20.  -1.   1.]\n",
      "リワード・報酬の一覧：[ -1.  31.  -2.   3.]\n",
      "リワード・報酬の一覧：[ -1.  51.  -3.   4.]\n",
      "リワード・報酬の一覧：[ -2.  68.  -1.   4.]\n",
      "リワード・報酬の一覧：[ -3.  88.  -2.   4.]\n",
      "リワード・報酬の一覧：[  -5.  114.   -2.    2.]\n",
      "リワード・報酬の一覧：[  -4.  125.   -2.    2.]\n",
      "リワード・報酬の一覧：[  -5.  136.   -3.    1.]\n",
      "リワード・報酬の一覧：[  -6.  155.   -2.    2.]\n",
      "リワード・報酬の一覧：[  -5.  172.    0.    2.]\n",
      "リワード・報酬の一覧：[  -5.  189.    1.    2.]\n",
      "リワード・報酬の一覧：[  -6.  197.    0.    2.]\n",
      "リワード・報酬の一覧：[  -7.  202.    1.    3.]\n",
      "リワード・報酬の一覧：[  -6.  217.    2.    4.]\n",
      "リワード・報酬の一覧：[  -5.  225.   -1.    4.]\n",
      "リワード・報酬の一覧：[  -5.  240.   -1.    3.]\n",
      "リワード・報酬の一覧：[  -5.  256.   -1.    3.]\n",
      "リワード・報酬の一覧：[  -6.  280.   -1.    4.]\n",
      "リワード・報酬の一覧：[  -6.  296.   -2.    3.]\n",
      "エージェントが考える最適なアームは、2番目のアームです。\n"
     ]
    }
   ],
   "source": [
    "total_episodes = 1000\n",
    "total_reward = np.zeros(num_bandits)\n",
    "e = 0.1\n",
    "init = tf.global_variables_initializer()\n",
    "\n",
    "with tf.Session() as sess:\n",
    "    sess.run(init)\n",
    "    i = 0\n",
    "    while i < total_episodes:\n",
    "        if np.random.rand(1) < e:\n",
    "            action = np.random.randint(num_bandits)\n",
    "        else:\n",
    "            action = sess.run(chosen_action)\n",
    "        reward = pullBandit(bandits[action])\n",
    "        \n",
    "        _,resp,ww = sess.run([update,responsible_weight,weights],feed_dict={reward_holder:[reward],action_holder:[action]})\n",
    "        \n",
    "        total_reward[action] += reward\n",
    "        if i % 50 == 0:\n",
    "            print(\"リワード・報酬の一覧：\" + str(total_reward))\n",
    "        i += 1\n",
    "        \n",
    "print(\"エージェントが考える最適なアームは、\" + str(np.argmax(ww) + 1) + \"番目のアームです。\")"
   ]
  },
  {
   "cell_type": "code",
   "execution_count": null,
   "metadata": {
    "collapsed": true
   },
   "outputs": [],
   "source": []
  }
 ],
 "metadata": {
  "kernelspec": {
   "display_name": "Python 3",
   "language": "python",
   "name": "python3"
  },
  "language_info": {
   "codemirror_mode": {
    "name": "ipython",
    "version": 3
   },
   "file_extension": ".py",
   "mimetype": "text/x-python",
   "name": "python",
   "nbconvert_exporter": "python",
   "pygments_lexer": "ipython3",
   "version": "3.5.2"
  }
 },
 "nbformat": 4,
 "nbformat_minor": 2
}
